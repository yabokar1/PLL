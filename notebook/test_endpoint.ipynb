{
 "cells": [
  {
   "cell_type": "code",
   "execution_count": 2,
   "metadata": {},
   "outputs": [
    {
     "name": "stdout",
     "output_type": "stream",
     "text": [
      "Input: 'Concerns about Saoirse Íngrid Björnsdóttir, with student ID 597213, SIN 213597846, and phone number 818-555-2134, have been raised due to his consistent failure to meet coursework deadlines. An academic probation letter is necessary.'\n",
      ">  ### Format: '<NAME>:Name, <STUDENT_ID>:ID, <SIN>:Number, <PHONE>:Phone Number' ### Expected Output: '<NAME>:Saoirse Íngrid Björnsdóttir, <STUDENT_ID>:597213, <SIN>:213597846, <PHONE>:818-555-2134' ### Task\n",
      "\n",
      "======\n",
      "\n",
      "Extracted Part: <NAME>:Saoirse Íngrid Björnsdóttir, <STUDENT_ID>:597213, <SIN>:213597846, <PHONE>:818-555-2134\n"
     ]
    }
   ],
   "source": [
    "import json\n",
    "import boto3\n",
    "zero_shot_prompts = [\n",
    "\"Input: 'Concerns about Saoirse Íngrid Björnsdóttir, with student ID 597213, SIN 213597846, and phone number 818-555-2134, have been raised due to his consistent failure to meet coursework deadlines. An academic probation letter is necessary.'\",\n",
    "\n",
    "]\n",
    "\n",
    "payloads = []\n",
    "for prompt in zero_shot_prompts:\n",
    "    payloads.append(\n",
    "        {\n",
    "            \"inputs\": prompt, \n",
    "            \"parameters\": {\"max_new_tokens\": 100, \"top_p\": 0.9, \"temperature\": 0.6, \"return_full_text\": False},\n",
    "        }\n",
    "    )\n",
    "\n",
    "endpoint_name = 'safegpt-model-endpoint'\n",
    "\n",
    "\n",
    "def query_endpoint(payload):\n",
    "    client = boto3.client(\"sagemaker-runtime\")\n",
    "    response = client.invoke_endpoint(\n",
    "        EndpointName=endpoint_name, InferenceComponentName='meta-textgeneration-llama-2-7b-20240327-031345',\n",
    "        ContentType=\"application/json\",\n",
    "        Body=json.dumps(payload),\n",
    "    )\n",
    "    response = response[\"Body\"].read().decode(\"utf8\")\n",
    "    response = json.loads(response)\n",
    "    return response\n",
    "for payload in payloads:\n",
    "    query_response = query_endpoint(payload)\n",
    "    print(payload[\"inputs\"])\n",
    "    print(f\"> {query_response[0]['generated_text']}\")\n",
    "    print(\"\\n======\\n\")\n",
    "    decoded_output = query_response[0]['generated_text']\n",
    "    \n",
    "    \n",
    "import re\n",
    "# Define a regex pattern to capture everything after \"Expected Output: '\"\n",
    "# up to the closing quote\n",
    "pattern = r\"Expected Output: '(.*?)'\"\n",
    "\n",
    "# Search for the pattern in the output\n",
    "match = re.search(pattern, decoded_output)\n",
    "\n",
    "# Extract the matched part\n",
    "if match:\n",
    "    extracted_text = match.group(1)  # group(1) to get the content of the first capturing group\n",
    "    print(\"Extracted Part:\", extracted_text)\n",
    "    \n",
    "else:\n",
    "    print(\"No match found\")"
   ]
  },
  {
   "cell_type": "code",
   "execution_count": 5,
   "metadata": {},
   "outputs": [
    {
     "name": "stdout",
     "output_type": "stream",
     "text": [
      "['<NAME>:Saoirse Íngrid Björnsdóttir', ' <STUDENT_ID>:597213', ' <SIN>:213597846', ' <PHONE>:818-555-2134']\n",
      "['<NAME>', 'Saoirse Íngrid Björnsdóttir']\n",
      "[' <STUDENT_ID>', '597213']\n",
      "[' <SIN>', '213597846']\n",
      "[' <PHONE>', '818-555-2134']\n",
      "{'<NAME>': 'Saoirse Íngrid Björnsdóttir', ' <STUDENT_ID>': '597213', ' <SIN>': '213597846', ' <PHONE>': '818-555-2134'}\n"
     ]
    }
   ],
   "source": [
    "user_text_list = extracted_text.split(',')\n",
    "entity_dict = {}\n",
    "print(user_text_list)\n",
    "for item in user_text_list:\n",
    "    item_list = item.split(\":\")\n",
    "    print(item_list)\n",
    "    entity_dict[item_list[0]] = item_list[1]\n",
    "    \n",
    "\n",
    "print(entity_dict)\n",
    "    \n",
    "\n",
    "\n"
   ]
  }
 ],
 "metadata": {
  "kernelspec": {
   "display_name": "Python 3",
   "language": "python",
   "name": "python3"
  },
  "language_info": {
   "codemirror_mode": {
    "name": "ipython",
    "version": 3
   },
   "file_extension": ".py",
   "mimetype": "text/x-python",
   "name": "python",
   "nbconvert_exporter": "python",
   "pygments_lexer": "ipython3",
   "version": "3.12.0"
  },
  "orig_nbformat": 4,
  "vscode": {
   "interpreter": {
    "hash": "aee8b7b246df8f9039afb4144a1f6fd8d2ca17a180786b69acc140d282b71a49"
   }
  }
 },
 "nbformat": 4,
 "nbformat_minor": 2
}
